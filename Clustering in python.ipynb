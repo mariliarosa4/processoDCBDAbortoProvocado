{
 "cells": [
  {
   "cell_type": "markdown",
   "metadata": {},
   "source": [
    "## Mergin tables"
   ]
  },
  {
   "cell_type": "code",
   "execution_count": null,
   "metadata": {},
   "outputs": [],
   "source": [
    "import pandas as pd"
   ]
  },
  {
   "cell_type": "code",
   "execution_count": null,
   "metadata": {
    "scrolled": false
   },
   "outputs": [],
   "source": [
    "db_mulher = pd.read_csv(\"clustering/mulher_values.csv\", sep = ';',low_memory=False)\n"
   ]
  },
  {
   "cell_type": "code",
   "execution_count": null,
   "metadata": {},
   "outputs": [],
   "source": [
    "db_gravidezes = pd.read_csv(\"clustering/gravidezes_values.csv\", sep = ';',low_memory=False)"
   ]
  },
  {
   "cell_type": "code",
   "execution_count": null,
   "metadata": {},
   "outputs": [],
   "source": [
    "db_mulher.tail()"
   ]
  },
  {
   "cell_type": "code",
   "execution_count": null,
   "metadata": {},
   "outputs": [],
   "source": [
    "db_gravidezes.tail()"
   ]
  },
  {
   "cell_type": "code",
   "execution_count": null,
   "metadata": {},
   "outputs": [],
   "source": [
    "db_joined = pd.merge(db_mulher, db_gravidezes, on='CM000_NQUE')\n",
    "db_joined"
   ]
  },
  {
   "cell_type": "code",
   "execution_count": null,
   "metadata": {},
   "outputs": [],
   "source": [
    "db_joined.to_csv(\"clustering/mulher_gravidezes.csv\", sep=';')\n"
   ]
  },
  {
   "cell_type": "markdown",
   "metadata": {},
   "source": [
    "# Ploting data\n",
    "\n",
    "http://queirozf.com/entries/pandas-dataframe-plot-examples-with-matplotlib-pyplot"
   ]
  },
  {
   "cell_type": "code",
   "execution_count": 3,
   "metadata": {},
   "outputs": [],
   "source": [
    "import pandas  as pd\n",
    "import numpy as np\n",
    "import matplotlib.pyplot as plt\n",
    "from pandas import Series,DataFrame\n",
    "%matplotlib inline"
   ]
  },
  {
   "cell_type": "code",
   "execution_count": 4,
   "metadata": {},
   "outputs": [
    {
     "data": {
      "text/plain": [
       "(15575, 675)"
      ]
     },
     "execution_count": 4,
     "metadata": {},
     "output_type": "execute_result"
    }
   ],
   "source": [
    "db_joined = pd.read_csv(\"clustering/mulher_values.csv\", sep = ';',low_memory=False)\n",
    "db_joined.shape"
   ]
  },
  {
   "cell_type": "code",
   "execution_count": 6,
   "metadata": {},
   "outputs": [
    {
     "data": {
      "text/plain": [
       "array([' ', '0', '1', '2', '3', '4', '6', '95'], dtype=object)"
      ]
     },
     "execution_count": 6,
     "metadata": {},
     "output_type": "execute_result"
    }
   ],
   "source": [
    "np.unique(db_joined['M282_ABOR'])#The data has 4 labels"
   ]
  },
  {
   "cell_type": "code",
   "execution_count": 7,
   "metadata": {},
   "outputs": [
    {
     "data": {
      "text/html": [
       "<div>\n",
       "<style scoped>\n",
       "    .dataframe tbody tr th:only-of-type {\n",
       "        vertical-align: middle;\n",
       "    }\n",
       "\n",
       "    .dataframe tbody tr th {\n",
       "        vertical-align: top;\n",
       "    }\n",
       "\n",
       "    .dataframe thead th {\n",
       "        text-align: right;\n",
       "    }\n",
       "</style>\n",
       "<table border=\"1\" class=\"dataframe\">\n",
       "  <thead>\n",
       "    <tr style=\"text-align: right;\">\n",
       "      <th></th>\n",
       "      <th>REC$TYPE</th>\n",
       "      <th>DOMICILIO_ID</th>\n",
       "      <th>MULHER_ID</th>\n",
       "      <th>Merge_mulher</th>\n",
       "      <th>CM000_NQUE</th>\n",
       "      <th>CM000A_QUES</th>\n",
       "      <th>CM002_CONG</th>\n",
       "      <th>CM003_ESTR</th>\n",
       "      <th>CM004_MACR</th>\n",
       "      <th>CM008_SITU</th>\n",
       "      <th>...</th>\n",
       "      <th>M840B_ALTU</th>\n",
       "      <th>XM010_SITU</th>\n",
       "      <th>XM020_NUME</th>\n",
       "      <th>XM110_PESO</th>\n",
       "      <th>XM120_ALTU</th>\n",
       "      <th>XM130_CIRC</th>\n",
       "      <th>XM210_RETI</th>\n",
       "      <th>XM220_HEMO</th>\n",
       "      <th>XM999_PESO</th>\n",
       "      <th>FatorMulheres</th>\n",
       "    </tr>\n",
       "  </thead>\n",
       "  <tbody>\n",
       "    <tr>\n",
       "      <th>0</th>\n",
       "      <td>210</td>\n",
       "      <td>1100010</td>\n",
       "      <td>110001002</td>\n",
       "      <td></td>\n",
       "      <td>10001002</td>\n",
       "      <td>100010</td>\n",
       "      <td>1</td>\n",
       "      <td>1</td>\n",
       "      <td>1</td>\n",
       "      <td>1</td>\n",
       "      <td>...</td>\n",
       "      <td>155</td>\n",
       "      <td>3</td>\n",
       "      <td>2</td>\n",
       "      <td>57,3</td>\n",
       "      <td>155</td>\n",
       "      <td>78,8</td>\n",
       "      <td>9,99</td>\n",
       "      <td>99,99</td>\n",
       "      <td>1259,140021</td>\n",
       "      <td>0,37453324022131235</td>\n",
       "    </tr>\n",
       "    <tr>\n",
       "      <th>1</th>\n",
       "      <td>210</td>\n",
       "      <td>1100020</td>\n",
       "      <td>110002002</td>\n",
       "      <td></td>\n",
       "      <td>10002002</td>\n",
       "      <td>100020</td>\n",
       "      <td>1</td>\n",
       "      <td>1</td>\n",
       "      <td>1</td>\n",
       "      <td>1</td>\n",
       "      <td>...</td>\n",
       "      <td>158,6</td>\n",
       "      <td>1</td>\n",
       "      <td>2</td>\n",
       "      <td>67,6</td>\n",
       "      <td>158,6</td>\n",
       "      <td>87,3</td>\n",
       "      <td>9,99</td>\n",
       "      <td>99,99</td>\n",
       "      <td>2686,00803</td>\n",
       "      <td>0,7989574423481565</td>\n",
       "    </tr>\n",
       "    <tr>\n",
       "      <th>2</th>\n",
       "      <td>210</td>\n",
       "      <td>1100030</td>\n",
       "      <td>110003002</td>\n",
       "      <td></td>\n",
       "      <td>10003002</td>\n",
       "      <td>100030</td>\n",
       "      <td>1</td>\n",
       "      <td>1</td>\n",
       "      <td>1</td>\n",
       "      <td>1</td>\n",
       "      <td>...</td>\n",
       "      <td>153,5</td>\n",
       "      <td>3</td>\n",
       "      <td>2</td>\n",
       "      <td>69,1</td>\n",
       "      <td>153,5</td>\n",
       "      <td>87,3</td>\n",
       "      <td>9,99</td>\n",
       "      <td>99,99</td>\n",
       "      <td>2038,006052</td>\n",
       "      <td>0,6062082036277398</td>\n",
       "    </tr>\n",
       "    <tr>\n",
       "      <th>3</th>\n",
       "      <td>210</td>\n",
       "      <td>1100040</td>\n",
       "      <td>110004002</td>\n",
       "      <td></td>\n",
       "      <td>10004002</td>\n",
       "      <td>100040</td>\n",
       "      <td>1</td>\n",
       "      <td>1</td>\n",
       "      <td>1</td>\n",
       "      <td>1</td>\n",
       "      <td>...</td>\n",
       "      <td>146,2</td>\n",
       "      <td>3</td>\n",
       "      <td>2</td>\n",
       "      <td>53,4</td>\n",
       "      <td>146,2</td>\n",
       "      <td>68</td>\n",
       "      <td>9,99</td>\n",
       "      <td>99,99</td>\n",
       "      <td>1795,489016</td>\n",
       "      <td>0,534071118166973</td>\n",
       "    </tr>\n",
       "    <tr>\n",
       "      <th>4</th>\n",
       "      <td>210</td>\n",
       "      <td>1100050</td>\n",
       "      <td>110005002</td>\n",
       "      <td></td>\n",
       "      <td>10005002</td>\n",
       "      <td>100050</td>\n",
       "      <td>1</td>\n",
       "      <td>1</td>\n",
       "      <td>1</td>\n",
       "      <td>1</td>\n",
       "      <td>...</td>\n",
       "      <td>154,5</td>\n",
       "      <td>2</td>\n",
       "      <td>2</td>\n",
       "      <td>83</td>\n",
       "      <td>154,6</td>\n",
       "      <td>97,8</td>\n",
       "      <td>9,99</td>\n",
       "      <td>99,99</td>\n",
       "      <td>1773,790328</td>\n",
       "      <td>0,5276168082493699</td>\n",
       "    </tr>\n",
       "  </tbody>\n",
       "</table>\n",
       "<p>5 rows × 675 columns</p>\n",
       "</div>"
      ],
      "text/plain": [
       "   REC$TYPE  DOMICILIO_ID  MULHER_ID Merge_mulher  CM000_NQUE  CM000A_QUES  \\\n",
       "0       210       1100010  110001002                 10001002       100010   \n",
       "1       210       1100020  110002002                 10002002       100020   \n",
       "2       210       1100030  110003002                 10003002       100030   \n",
       "3       210       1100040  110004002                 10004002       100040   \n",
       "4       210       1100050  110005002                 10005002       100050   \n",
       "\n",
       "   CM002_CONG  CM003_ESTR  CM004_MACR  CM008_SITU         ...           \\\n",
       "0           1           1           1           1         ...            \n",
       "1           1           1           1           1         ...            \n",
       "2           1           1           1           1         ...            \n",
       "3           1           1           1           1         ...            \n",
       "4           1           1           1           1         ...            \n",
       "\n",
       "   M840B_ALTU XM010_SITU  XM020_NUME XM110_PESO  XM120_ALTU XM130_CIRC  \\\n",
       "0         155          3           2       57,3         155       78,8   \n",
       "1       158,6          1           2       67,6       158,6       87,3   \n",
       "2       153,5          3           2       69,1       153,5       87,3   \n",
       "3       146,2          3           2       53,4       146,2         68   \n",
       "4       154,5          2           2         83       154,6       97,8   \n",
       "\n",
       "  XM210_RETI XM220_HEMO   XM999_PESO        FatorMulheres  \n",
       "0       9,99      99,99  1259,140021  0,37453324022131235  \n",
       "1       9,99      99,99   2686,00803   0,7989574423481565  \n",
       "2       9,99      99,99  2038,006052   0,6062082036277398  \n",
       "3       9,99      99,99  1795,489016    0,534071118166973  \n",
       "4       9,99      99,99  1773,790328   0,5276168082493699  \n",
       "\n",
       "[5 rows x 675 columns]"
      ]
     },
     "execution_count": 7,
     "metadata": {},
     "output_type": "execute_result"
    }
   ],
   "source": [
    "db_joined.head()"
   ]
  },
  {
   "cell_type": "code",
   "execution_count": 8,
   "metadata": {},
   "outputs": [
    {
     "name": "stdout",
     "output_type": "stream",
     "text": [
      "<class 'pandas.core.frame.DataFrame'>\n",
      "RangeIndex: 15575 entries, 0 to 15574\n",
      "Columns: 675 entries, REC$TYPE to FatorMulheres\n",
      "dtypes: int64(254), object(421)\n",
      "memory usage: 80.2+ MB\n",
      "None\n"
     ]
    }
   ],
   "source": [
    "print(db_joined.info())"
   ]
  },
  {
   "cell_type": "markdown",
   "metadata": {},
   "source": [
    "## Count values"
   ]
  },
  {
   "cell_type": "code",
   "execution_count": 53,
   "metadata": {
    "scrolled": true
   },
   "outputs": [
    {
     "data": {
      "text/plain": [
       "Text(0, 0.5, 'Valores de M258_TIPO')"
      ]
     },
     "execution_count": 53,
     "metadata": {},
     "output_type": "execute_result"
    },
    {
     "data": {
      "image/png": "[encoded data removed]",
      "text/plain": [
       "<Figure size 576x720 with 1 Axes>"
      ]
     },
     "metadata": {},
     "output_type": "display_data"
    }
   ],
   "source": [
    "ax = db_joined['M258_TIPO'].value_counts(normalize = False).plot(kind='barh',  figsize=(8, 10))\n",
    "  # Set x-axis label\n",
    "ax.set_xlabel(\"Frequência\", labelpad=20, weight='bold', size=12)\n",
    "  # Set y-axis label\n",
    "ax.set_ylabel(\"Valores de M258_TIPO\", labelpad=20, weight='bold', size=12)"
   ]
  },
  {
   "cell_type": "code",
   "execution_count": 9,
   "metadata": {},
   "outputs": [
    {
     "data": {
      "text/plain": [
       "Text(0,0.5,'Valores de M282_ABOR')"
      ]
     },
     "execution_count": 9,
     "metadata": {},
     "output_type": "execute_result"
    },
    {
     "data": {
      "image/png": "[encoded data removed]",
      "text/plain": [
       "<Figure size 576x720 with 1 Axes>"
      ]
     },
     "metadata": {},
     "output_type": "display_data"
    }
   ],
   "source": [
    "ax = db_joined['M282_ABOR'].value_counts(normalize = False).plot(kind='barh',  figsize=(8, 10))\n",
    "  # Set x-axis label\n",
    "ax.set_xlabel(\"Frequência\", labelpad=20, weight='bold', size=12)\n",
    "\n",
    "  # Set y-axis label\n",
    "ax.set_ylabel(\"Valores de M282_ABOR\", labelpad=20, weight='bold', size=12)"
   ]
  },
  {
   "cell_type": "code",
   "execution_count": 52,
   "metadata": {},
   "outputs": [
    {
     "data": {
      "image/png": "[encoded data removed]",
      "text/plain": [
       "<Figure size 576x720 with 1 Axes>"
      ]
     },
     "metadata": {},
     "output_type": "display_data"
    }
   ],
   "source": [
    "import matplotlib.pyplot as plt\n",
    "import pandas as pd\n",
    "\n",
    "db_joined.groupby(['M258_TIPO','M282_ABOR']).size().unstack().plot(kind='bar',stacked=True,  figsize=(8, 10))\n",
    "plt.show()"
   ]
  },
  {
   "cell_type": "markdown",
   "metadata": {},
   "source": [
    "## Implement k-prototype \n",
    "#### clustering for mixed data type"
   ]
  },
  {
   "cell_type": "code",
   "execution_count": 10,
   "metadata": {},
   "outputs": [],
   "source": [
    "from kmodes.kprototypes import KPrototypes"
   ]
  },
  {
   "cell_type": "code",
   "execution_count": 16,
   "metadata": {},
   "outputs": [],
   "source": [
    "db_joined.fillna(0, inplace=True)\n"
   ]
  },
  {
   "cell_type": "code",
   "execution_count": 17,
   "metadata": {},
   "outputs": [
    {
     "name": "stdout",
     "output_type": "stream",
     "text": [
      "(15575, 421)\n",
      "0\n"
     ]
    }
   ],
   "source": [
    "categ = db_joined.select_dtypes(include=['object'])\n",
    "categ_copia = db_joined.select_dtypes(include=['object']).copy()\n",
    "\n",
    "print(categ.shape)\n",
    "categoricos = []\n",
    "for lista in categ:\n",
    "    #print(lista)\n",
    "    categoricos.append(db_joined.columns.get_loc(lista))\n",
    "    #db_joined[lista].astype('category')\n",
    "\n",
    "\n",
    "print(categ_copia.isnull().values.sum())\n",
    "#print(categ_copia.isnull().sum())\n"
   ]
  },
  {
   "cell_type": "code",
   "execution_count": 18,
   "metadata": {},
   "outputs": [
    {
     "name": "stdout",
     "output_type": "stream",
     "text": [
      "(15575, 254)\n",
      "0\n"
     ]
    }
   ],
   "source": [
    "num_cols = db_joined.select_dtypes(include=[np.number,np.float64,np.int64])\n",
    "copia = db_joined.select_dtypes(include=[np.number,np.float64,np.int64]).copy()\n",
    "\n",
    "print(num_cols.shape)\n",
    "for l in num_cols:\n",
    "    #print(l)\n",
    "    #pd.to_numeric(db_joined[l], errors='coerce').isna()\n",
    "    db_joined[l].astype(float)\n",
    "    \n",
    "print(copia.isnull().values.sum())\n"
   ]
  },
  {
   "cell_type": "code",
   "execution_count": 19,
   "metadata": {},
   "outputs": [
    {
     "ename": "TypeError",
     "evalue": "'<' not supported between instances of 'str' and 'int'",
     "output_type": "error",
     "traceback": [
      "\u001b[1;31m---------------------------------------------------------------------------\u001b[0m",
      "\u001b[1;31mTypeError\u001b[0m                                 Traceback (most recent call last)",
      "\u001b[1;32m<ipython-input-19-f12c2cae9d7b>\u001b[0m in \u001b[0;36m<module>\u001b[1;34m()\u001b[0m\n\u001b[0;32m      2\u001b[0m \u001b[1;33m\u001b[0m\u001b[0m\n\u001b[0;32m      3\u001b[0m \u001b[0mkproto\u001b[0m \u001b[1;33m=\u001b[0m \u001b[0mKPrototypes\u001b[0m\u001b[1;33m(\u001b[0m\u001b[0mn_clusters\u001b[0m\u001b[1;33m=\u001b[0m\u001b[1;36m6\u001b[0m\u001b[1;33m,\u001b[0m \u001b[0minit\u001b[0m\u001b[1;33m=\u001b[0m\u001b[1;34m'Huang'\u001b[0m\u001b[1;33m,\u001b[0m \u001b[0mn_init\u001b[0m\u001b[1;33m=\u001b[0m\u001b[1;36m1\u001b[0m\u001b[1;33m,\u001b[0m \u001b[0mverbose\u001b[0m\u001b[1;33m=\u001b[0m\u001b[1;36m2\u001b[0m\u001b[1;33m)\u001b[0m\u001b[1;33m\u001b[0m\u001b[0m\n\u001b[1;32m----> 4\u001b[1;33m \u001b[0mclusters\u001b[0m \u001b[1;33m=\u001b[0m \u001b[0mkproto\u001b[0m\u001b[1;33m.\u001b[0m\u001b[0mfit_predict\u001b[0m\u001b[1;33m(\u001b[0m\u001b[0mdb_joined\u001b[0m\u001b[1;33m,\u001b[0m \u001b[0mcategorical\u001b[0m\u001b[1;33m=\u001b[0m\u001b[0mcategoricos\u001b[0m\u001b[1;33m)\u001b[0m\u001b[1;33m\u001b[0m\u001b[0m\n\u001b[0m\u001b[0;32m      5\u001b[0m \u001b[1;31m# Print cluster centroids of the trained model.\u001b[0m\u001b[1;33m\u001b[0m\u001b[1;33m\u001b[0m\u001b[0m\n\u001b[0;32m      6\u001b[0m \u001b[0mprint\u001b[0m\u001b[1;33m(\u001b[0m\u001b[0mkproto\u001b[0m\u001b[1;33m.\u001b[0m\u001b[0mcluster_centroids_\u001b[0m\u001b[1;33m)\u001b[0m\u001b[1;33m\u001b[0m\u001b[0m\n",
      "\u001b[1;32mC:\\ProgramData\\Anaconda3\\lib\\site-packages\\kmodes\\kmodes.py\u001b[0m in \u001b[0;36mfit_predict\u001b[1;34m(self, X, y, **kwargs)\u001b[0m\n\u001b[0;32m    374\u001b[0m         \u001b[0mpredict\u001b[0m\u001b[1;33m(\u001b[0m\u001b[0mX\u001b[0m\u001b[1;33m)\u001b[0m\u001b[1;33m.\u001b[0m\u001b[1;33m\u001b[0m\u001b[0m\n\u001b[0;32m    375\u001b[0m         \"\"\"\n\u001b[1;32m--> 376\u001b[1;33m         \u001b[1;32mreturn\u001b[0m \u001b[0mself\u001b[0m\u001b[1;33m.\u001b[0m\u001b[0mfit\u001b[0m\u001b[1;33m(\u001b[0m\u001b[0mX\u001b[0m\u001b[1;33m,\u001b[0m \u001b[1;33m**\u001b[0m\u001b[0mkwargs\u001b[0m\u001b[1;33m)\u001b[0m\u001b[1;33m.\u001b[0m\u001b[0mpredict\u001b[0m\u001b[1;33m(\u001b[0m\u001b[0mX\u001b[0m\u001b[1;33m,\u001b[0m \u001b[1;33m**\u001b[0m\u001b[0mkwargs\u001b[0m\u001b[1;33m)\u001b[0m\u001b[1;33m\u001b[0m\u001b[0m\n\u001b[0m\u001b[0;32m    377\u001b[0m \u001b[1;33m\u001b[0m\u001b[0m\n\u001b[0;32m    378\u001b[0m     \u001b[1;32mdef\u001b[0m \u001b[0mpredict\u001b[0m\u001b[1;33m(\u001b[0m\u001b[0mself\u001b[0m\u001b[1;33m,\u001b[0m \u001b[0mX\u001b[0m\u001b[1;33m,\u001b[0m \u001b[1;33m**\u001b[0m\u001b[0mkwargs\u001b[0m\u001b[1;33m)\u001b[0m\u001b[1;33m:\u001b[0m\u001b[1;33m\u001b[0m\u001b[0m\n",
      "\u001b[1;32mC:\\ProgramData\\Anaconda3\\lib\\site-packages\\kmodes\\kprototypes.py\u001b[0m in \u001b[0;36mfit\u001b[1;34m(self, X, y, categorical)\u001b[0m\n\u001b[0;32m    417\u001b[0m                                                     \u001b[0mself\u001b[0m\u001b[1;33m.\u001b[0m\u001b[0minit\u001b[0m\u001b[1;33m,\u001b[0m\u001b[1;33m\u001b[0m\u001b[0m\n\u001b[0;32m    418\u001b[0m                                                     \u001b[0mself\u001b[0m\u001b[1;33m.\u001b[0m\u001b[0mn_init\u001b[0m\u001b[1;33m,\u001b[0m\u001b[1;33m\u001b[0m\u001b[0m\n\u001b[1;32m--> 419\u001b[1;33m                                                     self.verbose)\n\u001b[0m\u001b[0;32m    420\u001b[0m         \u001b[1;32mreturn\u001b[0m \u001b[0mself\u001b[0m\u001b[1;33m\u001b[0m\u001b[0m\n\u001b[0;32m    421\u001b[0m \u001b[1;33m\u001b[0m\u001b[0m\n",
      "\u001b[1;32mC:\\ProgramData\\Anaconda3\\lib\\site-packages\\kmodes\\kprototypes.py\u001b[0m in \u001b[0;36mk_prototypes\u001b[1;34m(X, categorical, n_clusters, max_iter, num_dissim, cat_dissim, gamma, init, n_init, verbose)\u001b[0m\n\u001b[0;32m    160\u001b[0m     \u001b[1;31m# Convert the categorical values in Xcat to integers for speed.\u001b[0m\u001b[1;33m\u001b[0m\u001b[1;33m\u001b[0m\u001b[0m\n\u001b[0;32m    161\u001b[0m     \u001b[1;31m# Based on the unique values in Xcat, we can make a mapping to achieve this.\u001b[0m\u001b[1;33m\u001b[0m\u001b[1;33m\u001b[0m\u001b[0m\n\u001b[1;32m--> 162\u001b[1;33m     \u001b[0mXcat\u001b[0m\u001b[1;33m,\u001b[0m \u001b[0menc_map\u001b[0m \u001b[1;33m=\u001b[0m \u001b[0mencode_features\u001b[0m\u001b[1;33m(\u001b[0m\u001b[0mXcat\u001b[0m\u001b[1;33m)\u001b[0m\u001b[1;33m\u001b[0m\u001b[0m\n\u001b[0m\u001b[0;32m    163\u001b[0m \u001b[1;33m\u001b[0m\u001b[0m\n\u001b[0;32m    164\u001b[0m     \u001b[1;31m# Are there more n_clusters than unique rows? Then set the unique\u001b[0m\u001b[1;33m\u001b[0m\u001b[1;33m\u001b[0m\u001b[0m\n",
      "\u001b[1;32mC:\\ProgramData\\Anaconda3\\lib\\site-packages\\kmodes\\util\\__init__.py\u001b[0m in \u001b[0;36mencode_features\u001b[1;34m(X, enc_map)\u001b[0m\n\u001b[0;32m     45\u001b[0m     \u001b[1;32mfor\u001b[0m \u001b[0mii\u001b[0m \u001b[1;32min\u001b[0m \u001b[0mrange\u001b[0m\u001b[1;33m(\u001b[0m\u001b[0mX\u001b[0m\u001b[1;33m.\u001b[0m\u001b[0mshape\u001b[0m\u001b[1;33m[\u001b[0m\u001b[1;36m1\u001b[0m\u001b[1;33m]\u001b[0m\u001b[1;33m)\u001b[0m\u001b[1;33m:\u001b[0m\u001b[1;33m\u001b[0m\u001b[0m\n\u001b[0;32m     46\u001b[0m         \u001b[1;32mif\u001b[0m \u001b[0mfit\u001b[0m\u001b[1;33m:\u001b[0m\u001b[1;33m\u001b[0m\u001b[0m\n\u001b[1;32m---> 47\u001b[1;33m             col_enc = {val: jj for jj, val in enumerate(np.unique(X[:, ii]))\n\u001b[0m\u001b[0;32m     48\u001b[0m                        if not (isinstance(val, float) and np.isnan(val))}\n\u001b[0;32m     49\u001b[0m             \u001b[0menc_map\u001b[0m\u001b[1;33m.\u001b[0m\u001b[0mappend\u001b[0m\u001b[1;33m(\u001b[0m\u001b[0mcol_enc\u001b[0m\u001b[1;33m)\u001b[0m\u001b[1;33m\u001b[0m\u001b[0m\n",
      "\u001b[1;32mC:\\ProgramData\\Anaconda3\\lib\\site-packages\\numpy\\lib\\arraysetops.py\u001b[0m in \u001b[0;36munique\u001b[1;34m(ar, return_index, return_inverse, return_counts, axis)\u001b[0m\n\u001b[0;32m    221\u001b[0m     \u001b[0mar\u001b[0m \u001b[1;33m=\u001b[0m \u001b[0mnp\u001b[0m\u001b[1;33m.\u001b[0m\u001b[0masanyarray\u001b[0m\u001b[1;33m(\u001b[0m\u001b[0mar\u001b[0m\u001b[1;33m)\u001b[0m\u001b[1;33m\u001b[0m\u001b[0m\n\u001b[0;32m    222\u001b[0m     \u001b[1;32mif\u001b[0m \u001b[0maxis\u001b[0m \u001b[1;32mis\u001b[0m \u001b[1;32mNone\u001b[0m\u001b[1;33m:\u001b[0m\u001b[1;33m\u001b[0m\u001b[0m\n\u001b[1;32m--> 223\u001b[1;33m         \u001b[1;32mreturn\u001b[0m \u001b[0m_unique1d\u001b[0m\u001b[1;33m(\u001b[0m\u001b[0mar\u001b[0m\u001b[1;33m,\u001b[0m \u001b[0mreturn_index\u001b[0m\u001b[1;33m,\u001b[0m \u001b[0mreturn_inverse\u001b[0m\u001b[1;33m,\u001b[0m \u001b[0mreturn_counts\u001b[0m\u001b[1;33m)\u001b[0m\u001b[1;33m\u001b[0m\u001b[0m\n\u001b[0m\u001b[0;32m    224\u001b[0m     \u001b[1;32mif\u001b[0m \u001b[1;32mnot\u001b[0m \u001b[1;33m(\u001b[0m\u001b[1;33m-\u001b[0m\u001b[0mar\u001b[0m\u001b[1;33m.\u001b[0m\u001b[0mndim\u001b[0m \u001b[1;33m<=\u001b[0m \u001b[0maxis\u001b[0m \u001b[1;33m<\u001b[0m \u001b[0mar\u001b[0m\u001b[1;33m.\u001b[0m\u001b[0mndim\u001b[0m\u001b[1;33m)\u001b[0m\u001b[1;33m:\u001b[0m\u001b[1;33m\u001b[0m\u001b[0m\n\u001b[0;32m    225\u001b[0m         \u001b[1;32mraise\u001b[0m \u001b[0mValueError\u001b[0m\u001b[1;33m(\u001b[0m\u001b[1;34m'Invalid axis kwarg specified for unique'\u001b[0m\u001b[1;33m)\u001b[0m\u001b[1;33m\u001b[0m\u001b[0m\n",
      "\u001b[1;32mC:\\ProgramData\\Anaconda3\\lib\\site-packages\\numpy\\lib\\arraysetops.py\u001b[0m in \u001b[0;36m_unique1d\u001b[1;34m(ar, return_index, return_inverse, return_counts)\u001b[0m\n\u001b[0;32m    281\u001b[0m         \u001b[0maux\u001b[0m \u001b[1;33m=\u001b[0m \u001b[0mar\u001b[0m\u001b[1;33m[\u001b[0m\u001b[0mperm\u001b[0m\u001b[1;33m]\u001b[0m\u001b[1;33m\u001b[0m\u001b[0m\n\u001b[0;32m    282\u001b[0m     \u001b[1;32melse\u001b[0m\u001b[1;33m:\u001b[0m\u001b[1;33m\u001b[0m\u001b[0m\n\u001b[1;32m--> 283\u001b[1;33m         \u001b[0mar\u001b[0m\u001b[1;33m.\u001b[0m\u001b[0msort\u001b[0m\u001b[1;33m(\u001b[0m\u001b[1;33m)\u001b[0m\u001b[1;33m\u001b[0m\u001b[0m\n\u001b[0m\u001b[0;32m    284\u001b[0m         \u001b[0maux\u001b[0m \u001b[1;33m=\u001b[0m \u001b[0mar\u001b[0m\u001b[1;33m\u001b[0m\u001b[0m\n\u001b[0;32m    285\u001b[0m     \u001b[0mflag\u001b[0m \u001b[1;33m=\u001b[0m \u001b[0mnp\u001b[0m\u001b[1;33m.\u001b[0m\u001b[0mconcatenate\u001b[0m\u001b[1;33m(\u001b[0m\u001b[1;33m(\u001b[0m\u001b[1;33m[\u001b[0m\u001b[1;32mTrue\u001b[0m\u001b[1;33m]\u001b[0m\u001b[1;33m,\u001b[0m \u001b[0maux\u001b[0m\u001b[1;33m[\u001b[0m\u001b[1;36m1\u001b[0m\u001b[1;33m:\u001b[0m\u001b[1;33m]\u001b[0m \u001b[1;33m!=\u001b[0m \u001b[0maux\u001b[0m\u001b[1;33m[\u001b[0m\u001b[1;33m:\u001b[0m\u001b[1;33m-\u001b[0m\u001b[1;36m1\u001b[0m\u001b[1;33m]\u001b[0m\u001b[1;33m)\u001b[0m\u001b[1;33m)\u001b[0m\u001b[1;33m\u001b[0m\u001b[0m\n",
      "\u001b[1;31mTypeError\u001b[0m: '<' not supported between instances of 'str' and 'int'"
     ]
    }
   ],
   "source": [
    "#Data points with their publisher name,category score, category name, place name\n",
    "\n",
    "kproto = KPrototypes(n_clusters=6, init='Huang', n_init=1, verbose=2)\n",
    "clusters = kproto.fit_predict(db_joined, categorical=categoricos)\n",
    "# Print cluster centroids of the trained model.\n",
    "print(kproto.cluster_centroids_)\n",
    "# Print training statistics\n",
    "print(kproto.cost_)\n",
    "print(kproto.n_iter_)\n"
   ]
  },
  {
   "cell_type": "code",
   "execution_count": 14,
   "metadata": {},
   "outputs": [
    {
     "ename": "NameError",
     "evalue": "name 'clusters' is not defined",
     "output_type": "error",
     "traceback": [
      "\u001b[1;31m---------------------------------------------------------------------------\u001b[0m",
      "\u001b[1;31mNameError\u001b[0m                                 Traceback (most recent call last)",
      "\u001b[1;32m<ipython-input-14-d928ff34bc1d>\u001b[0m in \u001b[0;36m<module>\u001b[1;34m()\u001b[0m\n\u001b[0;32m      1\u001b[0m \u001b[0msyms\u001b[0m \u001b[1;33m=\u001b[0m \u001b[0mdb_joined\u001b[0m\u001b[1;33m[\u001b[0m\u001b[1;34m'M282_ABOR'\u001b[0m\u001b[1;33m]\u001b[0m\u001b[1;33m\u001b[0m\u001b[0m\n\u001b[1;32m----> 2\u001b[1;33m \u001b[1;32mfor\u001b[0m \u001b[0ms\u001b[0m\u001b[1;33m,\u001b[0m \u001b[0mc\u001b[0m \u001b[1;32min\u001b[0m \u001b[0mzip\u001b[0m\u001b[1;33m(\u001b[0m\u001b[0msyms\u001b[0m\u001b[1;33m,\u001b[0m \u001b[0mclusters\u001b[0m\u001b[1;33m)\u001b[0m\u001b[1;33m:\u001b[0m\u001b[1;33m\u001b[0m\u001b[0m\n\u001b[0m\u001b[0;32m      3\u001b[0m     \u001b[0mprint\u001b[0m\u001b[1;33m(\u001b[0m\u001b[1;34m\"Result: {}, cluster:{}\"\u001b[0m\u001b[1;33m.\u001b[0m\u001b[0mformat\u001b[0m\u001b[1;33m(\u001b[0m\u001b[0ms\u001b[0m\u001b[1;33m,\u001b[0m \u001b[0mc\u001b[0m\u001b[1;33m)\u001b[0m\u001b[1;33m)\u001b[0m\u001b[1;33m\u001b[0m\u001b[0m\n\u001b[0;32m      4\u001b[0m \u001b[1;31m# Plot the results\u001b[0m\u001b[1;33m\u001b[0m\u001b[1;33m\u001b[0m\u001b[0m\n\u001b[0;32m      5\u001b[0m \u001b[1;32mfor\u001b[0m \u001b[0mi\u001b[0m \u001b[1;32min\u001b[0m \u001b[0mset\u001b[0m\u001b[1;33m(\u001b[0m\u001b[0mkproto\u001b[0m\u001b[1;33m.\u001b[0m\u001b[0mlabels_\u001b[0m\u001b[1;33m)\u001b[0m\u001b[1;33m:\u001b[0m\u001b[1;33m\u001b[0m\u001b[0m\n",
      "\u001b[1;31mNameError\u001b[0m: name 'clusters' is not defined"
     ]
    }
   ],
   "source": [
    "syms = db_joined['M282_ABOR']\n",
    "for s, c in zip(syms, clusters):\n",
    "    print(\"Result: {}, cluster:{}\".format(s, c))\n",
    "# Plot the results\n",
    "for i in set(kproto.labels_):\n",
    "    index = kproto.labels_ == i\n",
    "    plt.plot(db_joined[index, 0], db_joined[index, 1], 'o')\n",
    "    plt.suptitle('Data points categorized with category score', fontsize=18)\n",
    "    plt.xlabel('Category Score', fontsize=16)\n",
    "    plt.ylabel('Category Type', fontsize=16)\n",
    "plt.show()\n",
    "# Clustered result\n",
    "fig1, ax3 = plt.subplots()\n",
    "scatter = ax3.scatter(syms, clusters, c=clusters, s=50)\n",
    "ax3.set_xlabel('Data points')\n",
    "ax3.set_ylabel('Cluster')\n",
    "plt.colorbar(scatter)\n",
    "ax3.set_title('Data points classifed according to known centers')\n",
    "plt.show()\n",
    "result = zip(syms, kproto.labels_)\n",
    "sortedR = sorted(result, key=lambda x: x[1])\n",
    "print(sortedR)"
   ]
  },
  {
   "cell_type": "markdown",
   "metadata": {},
   "source": [
    "# Implementing k-modes "
   ]
  },
  {
   "cell_type": "code",
   "execution_count": 29,
   "metadata": {},
   "outputs": [
    {
     "name": "stdout",
     "output_type": "stream",
     "text": [
      "Init: initializing centroids\n",
      "Init: initializing clusters\n",
      "Starting iterations...\n",
      "Run: 1, iteration: 1/100, moves: 3, ncost: 3.885029430652437\n",
      "Run: 1, iteration: 2/100, moves: 4, ncost: 3.7820584896503475\n",
      "Run: 1, iteration: 3/100, moves: 1, ncost: 3.7750618968237646\n",
      "Run: 1, iteration: 4/100, moves: 0, ncost: 3.7750618968237646\n",
      "Init: initializing centroids\n",
      "Init: initializing clusters\n",
      "Starting iterations...\n",
      "Run: 2, iteration: 1/100, moves: 3, ncost: 4.203916741843519\n",
      "Run: 2, iteration: 2/100, moves: 3, ncost: 4.137072933610997\n",
      "Run: 2, iteration: 3/100, moves: 1, ncost: 4.130076340784414\n",
      "Run: 2, iteration: 4/100, moves: 0, ncost: 4.130076340784414\n",
      "Init: initializing centroids\n",
      "Init: initializing clusters\n",
      "Starting iterations...\n",
      "Run: 3, iteration: 1/100, moves: 3, ncost: 3.910044596263404\n",
      "Run: 3, iteration: 2/100, moves: 0, ncost: 3.910044596263404\n",
      "Init: initializing centroids\n",
      "Init: initializing clusters\n",
      "Starting iterations...\n",
      "Run: 4, iteration: 1/100, moves: 6, ncost: 4.084074691210567\n",
      "Run: 4, iteration: 2/100, moves: 4, ncost: 4.026134160702566\n",
      "Run: 4, iteration: 3/100, moves: 0, ncost: 4.026134160702566\n",
      "Init: initializing centroids\n",
      "Init: initializing clusters\n",
      "Starting iterations...\n",
      "Run: 5, iteration: 1/100, moves: 7, ncost: 3.729484749311039\n",
      "Run: 5, iteration: 2/100, moves: 0, ncost: 3.729484749311039\n",
      "Init: initializing centroids\n",
      "Init: initializing clusters\n",
      "Starting iterations...\n",
      "Run: 6, iteration: 1/100, moves: 7, ncost: 3.9408897245899044\n",
      "Run: 6, iteration: 2/100, moves: 0, ncost: 3.9408897245899044\n",
      "Init: initializing centroids\n",
      "Init: initializing clusters\n",
      "Starting iterations...\n",
      "Run: 7, iteration: 1/100, moves: 5, ncost: 4.17764608287364\n",
      "Run: 7, iteration: 2/100, moves: 3, ncost: 4.127074132515853\n",
      "Run: 7, iteration: 3/100, moves: 1, ncost: 4.121016806467007\n",
      "Run: 7, iteration: 4/100, moves: 0, ncost: 4.121016806467007\n",
      "Init: initializing centroids\n",
      "Init: initializing clusters\n",
      "Starting iterations...\n",
      "Run: 8, iteration: 1/100, moves: 7, ncost: 3.7045010418665467\n",
      "Run: 8, iteration: 2/100, moves: 0, ncost: 3.7045010418665467\n",
      "Init: initializing centroids\n",
      "Init: initializing clusters\n",
      "Init: initializing centroids\n",
      "Init: initializing clusters\n",
      "Init: initializing centroids\n",
      "Init: initializing clusters\n",
      "Init: initializing centroids\n",
      "Init: initializing clusters\n",
      "Starting iterations...\n",
      "Run: 9, iteration: 1/100, moves: 9, ncost: 3.7432733339402184\n",
      "Run: 9, iteration: 2/100, moves: 3, ncost: 3.7002099070776704\n",
      "Run: 9, iteration: 3/100, moves: 0, ncost: 3.7002099070776704\n",
      "Init: initializing centroids\n",
      "Init: initializing clusters\n",
      "Init: initializing centroids\n",
      "Init: initializing clusters\n",
      "Init: initializing centroids\n",
      "Init: initializing clusters\n",
      "Starting iterations...\n",
      "Run: 10, iteration: 1/100, moves: 5, ncost: 4.127266128298604\n",
      "Run: 10, iteration: 2/100, moves: 1, ncost: 4.121016806467007\n",
      "Run: 10, iteration: 3/100, moves: 0, ncost: 4.121016806467007\n",
      "Best run was number 9\n",
      "[array([[0.01740057],\n",
      "       [0.30133929],\n",
      "       [0.65755208],\n",
      "       [0.0078125 ],\n",
      "       [0.92773438]]), array([[b'outdoor_', b'No Data'],\n",
      "       [b'building_', b'No Data'],\n",
      "       [b'outdoor_oceanbeach', b'No Data'],\n",
      "       [b'others_', b'Victoria Dam'],\n",
      "       [b'outdoor_mountain', b'No Data']], dtype='|S18')]\n",
      "3.7002099070776704\n",
      "3\n",
      "Result: Ransika Fernando, cluster:2\n",
      "Result: Ransika Fernando, cluster:0\n",
      "Result: Ransika Fernando, cluster:1\n",
      "Result: Sachini Jagodaarachchi, cluster:4\n",
      "Result: Chathuri Senanayake, cluster:4\n",
      "Result: Chathuri Senanayake, cluster:1\n",
      "Result: Chathuri Senanayake, cluster:0\n",
      "Result: Chathuri Senanayake, cluster:1\n",
      "Result: Chathuri Senanayake, cluster:1\n",
      "Result: Chathuri Senanayake, cluster:0\n",
      "Result: Nilantha Premakumara, cluster:4\n",
      "Result: Nilantha Premakumara, cluster:4\n",
      "Result: Chathuri Senanayake, cluster:0\n",
      "Result: Chathuri Senanayake, cluster:2\n",
      "Result: Surangani Bandara, cluster:2\n",
      "Result: Hasitha Lakmal, cluster:1\n",
      "Result: Hasitha Lakmal, cluster:0\n",
      "Result: Pradeep Kalansooriya, cluster:1\n",
      "Result: Pradeep Kalansooriya, cluster:0\n",
      "Result: Dilini Wijesinghe, cluster:0\n",
      "Result: Dilini Wijesinghe, cluster:3\n",
      "Result: Chiranthi Vinghghani, cluster:0\n",
      "Result: Chiranthi Vinghghani, cluster:2\n",
      "Result: Janindu Praneeth Weerawarnakula, cluster:2\n",
      "Result: Chathurangi Shyalika, cluster:0\n",
      "Result: Chathurangi Shyalika, cluster:4\n",
      "Result: Surangani Bandara, cluster:2\n",
      "Result: Surangani Bandara, cluster:0\n",
      "Result: Surangani Bandara, cluster:4\n",
      "Result: Chathurangi Shyalika, cluster:0\n",
      "Result: Chathurangi Shyalika, cluster:1\n"
     ]
    },
    {
     "data": {
      "image/png": "[encoded data removed]",
      "text/plain": [
       "<Figure size 432x288 with 1 Axes>"
      ]
     },
     "metadata": {},
     "output_type": "display_data"
    },
    {
     "data": {
      "image/png": "[encoded data removed]",
      "text/plain": [
       "<Figure size 432x288 with 2 Axes>"
      ]
     },
     "metadata": {},
     "output_type": "display_data"
    },
    {
     "name": "stdout",
     "output_type": "stream",
     "text": [
      "[('Ransika Fernando', 0), ('Chathuri Senanayake', 0), ('Chathuri Senanayake', 0), ('Chathuri Senanayake', 0), ('Hasitha Lakmal', 0), ('Pradeep Kalansooriya', 0), ('Dilini Wijesinghe', 0), ('Chiranthi Vinghghani', 0), ('Chathurangi Shyalika', 0), ('Surangani Bandara', 0), ('Chathurangi Shyalika', 0), ('Ransika Fernando', 1), ('Chathuri Senanayake', 1), ('Chathuri Senanayake', 1), ('Chathuri Senanayake', 1), ('Hasitha Lakmal', 1), ('Pradeep Kalansooriya', 1), ('Chathurangi Shyalika', 1), ('Ransika Fernando', 2), ('Chathuri Senanayake', 2), ('Surangani Bandara', 2), ('Chiranthi Vinghghani', 2), ('Janindu Praneeth Weerawarnakula', 2), ('Surangani Bandara', 2), ('Dilini Wijesinghe', 3), ('Sachini Jagodaarachchi', 4), ('Chathuri Senanayake', 4), ('Nilantha Premakumara', 4), ('Nilantha Premakumara', 4), ('Chathurangi Shyalika', 4), ('Surangani Bandara', 4)]\n"
     ]
    }
   ],
   "source": [
    "#!/usr/bin/env python\n",
    "import numpy as np\n",
    "from kmodes.kprototypes import KPrototypes\n",
    "import matplotlib.pyplot as plt\n",
    "from matplotlib import style\n",
    "style.use(\"ggplot\")\n",
    "colors = ['b', 'orange', 'g', 'r', 'c', 'm', 'y', 'k', 'Brown', 'ForestGreen']\n",
    "#Data points with their publisher name,category score, category name, place name\n",
    "syms = np.genfromtxt('travel.csv', dtype=str, delimiter=',')[:, 1]\n",
    "X = np.genfromtxt('travel.csv', dtype=object, delimiter=',')[:, 2:]\n",
    "X[:, 0] = X[:, 0].astype(float)\n",
    "kproto = KPrototypes(n_clusters=5, init='Cao', verbose=2)\n",
    "clusters = kproto.fit_predict(X, categorical=[1, 2])\n",
    "# Print cluster centroids of the trained model.\n",
    "print(kproto.cluster_centroids_)\n",
    "# Print training statistics\n",
    "print(kproto.cost_)\n",
    "print(kproto.n_iter_)\n",
    "for s, c in zip(syms, clusters):\n",
    "    print(\"Result: {}, cluster:{}\".format(s, c))\n",
    "# Plot the results\n",
    "for i in set(kproto.labels_):\n",
    "    index = kproto.labels_ == i\n",
    "    plt.plot(X[index, 0], X[index, 1], 'o')\n",
    "    plt.suptitle('Data points categorized with category score', fontsize=18)\n",
    "    plt.xlabel('Category Score', fontsize=16)\n",
    "    plt.ylabel('Category Type', fontsize=16)\n",
    "plt.show()\n",
    "# Clustered result\n",
    "fig1, ax3 = plt.subplots()\n",
    "scatter = ax3.scatter(syms, clusters, c=clusters, s=50)\n",
    "ax3.set_xlabel('Data points')\n",
    "ax3.set_ylabel('Cluster')\n",
    "plt.colorbar(scatter)\n",
    "ax3.set_title('Data points classifed according to known centers')\n",
    "plt.show()\n",
    "result = zip(syms, kproto.labels_)\n",
    "sortedR = sorted(result, key=lambda x: x[1])\n",
    "print(sortedR)"
   ]
  },
  {
   "cell_type": "code",
   "execution_count": null,
   "metadata": {},
   "outputs": [],
   "source": []
  }
 ],
 "metadata": {
  "kernelspec": {
   "display_name": "Python 3",
   "language": "python",
   "name": "python3"
  },
  "language_info": {
   "codemirror_mode": {
    "name": "ipython",
    "version": 3
   },
   "file_extension": ".py",
   "mimetype": "text/x-python",
   "name": "python",
   "nbconvert_exporter": "python",
   "pygments_lexer": "ipython3",
   "version": "3.6.5"
  }
 },
 "nbformat": 4,
 "nbformat_minor": 2
}
